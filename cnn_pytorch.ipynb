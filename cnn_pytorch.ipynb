{
  "nbformat": 4,
  "nbformat_minor": 0,
  "metadata": {
    "colab": {
      "provenance": [],
      "authorship_tag": "ABX9TyMix1ODQTtC6Y69f55qm/0B"
    },
    "kernelspec": {
      "name": "python3",
      "display_name": "Python 3"
    },
    "language_info": {
      "name": "python"
    }
  },
  "cells": [
    {
      "cell_type": "code",
      "execution_count": 2,
      "metadata": {
        "id": "JGO4QB-3oeXB"
      },
      "outputs": [],
      "source": [
        "import torch\n",
        "import torch.nn as nn\n",
        "import torch.nn.functional as F\n",
        "from torchvision.datasets import CIFAR10\n",
        "import torch.optim as optim\n",
        "from torch.utils.data import DataLoader\n",
        "from torchvision.transforms import transforms\n",
        "import matplotlib.pyplot as plt"
      ]
    },
    {
      "cell_type": "code",
      "source": [
        "t=transforms.Compose([transforms.ToTensor(), transforms.Normalize((0.5,0.5,0.5),(0.5,0.5,0.5))])\n",
        "train_data=CIFAR10(root='.\\cifar', train=True, download=True, transform=t)\n",
        "test_data=CIFAR10(root='.\\cifar', train=False,download=True,transform=t)\n",
        "\n",
        "train_loader=DataLoader(train_data,batch_size=32,shuffle=True)\n",
        "test_loader=DataLoader(test_data,batch_size=32,shuffle=False)"
      ],
      "metadata": {
        "colab": {
          "base_uri": "https://localhost:8080/"
        },
        "id": "_dgItQGLsgOE",
        "outputId": "0cbedbd3-0f47-4265-c2d3-c1ed4a1ae717"
      },
      "execution_count": 3,
      "outputs": [
        {
          "output_type": "stream",
          "name": "stdout",
          "text": [
            "Downloading https://www.cs.toronto.edu/~kriz/cifar-10-python.tar.gz to .\\cifar/cifar-10-python.tar.gz\n"
          ]
        },
        {
          "output_type": "stream",
          "name": "stderr",
          "text": [
            "100%|██████████| 170M/170M [00:05<00:00, 29.8MB/s]\n"
          ]
        },
        {
          "output_type": "stream",
          "name": "stdout",
          "text": [
            "Extracting .\\cifar/cifar-10-python.tar.gz to .\\cifar\n",
            "Files already downloaded and verified\n"
          ]
        }
      ]
    },
    {
      "cell_type": "code",
      "source": [
        "class cnn_model(nn.Module):\n",
        "  def __init__(self):\n",
        "    super(cnn_model,self).__init__()\n",
        "    self.conv1=nn.Conv2d(3,32,3,padding=1)\n",
        "    self.conv2=nn.Conv2d(32,64,3,padding=1)\n",
        "    self.conv3=nn.Conv2d(64,128,3,padding=1)\n",
        "    self.fc1=nn.Linear(128*4*4,256)\n",
        "    self.fc2=nn.Linear(256,128)\n",
        "    self.fc3=nn.Linear(128,10)\n",
        "    self.pool=nn.MaxPool2d(2,2)\n",
        "\n",
        "  def forward(self,x):\n",
        "    x=self.conv1(x)\n",
        "    x=F.relu(x)\n",
        "    x=self.pool(x)\n",
        "    x=self.pool(F.relu(self.conv2(x)))\n",
        "    x=self.pool(F.relu(self.conv3(x)))\n",
        "    x=x.view(-1,128*4*4)\n",
        "    x=torch.relu(self.fc1(x))\n",
        "    x=F.relu(self.fc2(x))\n",
        "    x=self.fc3(x)\n",
        "    return x"
      ],
      "metadata": {
        "id": "ki06Ipkbu28E"
      },
      "execution_count": 8,
      "outputs": []
    },
    {
      "cell_type": "code",
      "source": [
        "model=cnn_model()\n",
        "criteria=nn.CrossEntropyLoss()\n",
        "optimizer=optim.Adam(model.parameters(),lr=0.0001)\n",
        "\n",
        "num_epochs=10\n",
        "for epoch in range(num_epochs):\n",
        "  running_loss=0.0\n",
        "  for image,label in train_loader:\n",
        "    output=model(image)\n",
        "    loss=criteria(output,label)\n",
        "    loss.backward()\n",
        "    optimizer.step()\n",
        "    optimizer.zero_grad()\n",
        "    running_loss+=loss.item()\n",
        "\n",
        "  print(f'epoch[{epoch+1/num_epochs}],loss:{running_loss/len(train_loader)}')"
      ],
      "metadata": {
        "colab": {
          "base_uri": "https://localhost:8080/"
        },
        "id": "ENGq9T0p3VEJ",
        "outputId": "dccb7d46-96d0-470f-db6f-f9be6b909bc0"
      },
      "execution_count": 11,
      "outputs": [
        {
          "output_type": "stream",
          "name": "stdout",
          "text": [
            "epoch[0.1],loss:1.684907764101059\n",
            "epoch[1.1],loss:1.3901053801684218\n",
            "epoch[2.1],loss:1.2756761816626394\n",
            "epoch[3.1],loss:1.1821902236416792\n",
            "epoch[4.1],loss:1.0934027893300706\n",
            "epoch[5.1],loss:1.0201100636504814\n",
            "epoch[6.1],loss:0.9539005440622282\n",
            "epoch[7.1],loss:0.8954669858733584\n",
            "epoch[8.1],loss:0.8439897701134684\n",
            "epoch[9.1],loss:0.8010573981476379\n"
          ]
        }
      ]
    },
    {
      "cell_type": "code",
      "source": [
        "model.eval()\n",
        "correct=0.0\n",
        "total=0.0\n",
        "with torch.no_grad():\n",
        "  for img,label in test_loader:\n",
        "    output=model(img)\n",
        "    loss=criteria(output,label)\n",
        "    _,predicted=torch.max(output,1)\n",
        "    correct+=(predicted==label).sum().item()\n",
        "    total+=label.size(0)\n",
        "    running_loss+=loss.item()\n",
        "  print(f'epoch[{epoch+1/num_epochs}],loss:{running_loss/len(train_loader)}')\n",
        "  print(f'accuracy:{(correct/total)*100}')\n",
        "\n",
        "plt.plot(loss)\n",
        "plt.show()\n"
      ],
      "metadata": {
        "colab": {
          "base_uri": "https://localhost:8080/",
          "height": 465
        },
        "id": "8rEC5gzs6v6R",
        "outputId": "755d0578-bd34-4720-f6d2-423f40819a92"
      },
      "execution_count": 12,
      "outputs": [
        {
          "output_type": "stream",
          "name": "stdout",
          "text": [
            "epoch[9.1],loss:0.9777385322847811\n",
            "accuracy:69.11\n"
          ]
        },
        {
          "output_type": "display_data",
          "data": {
            "text/plain": [
              "<Figure size 640x480 with 1 Axes>"
            ],
            "image/png": "[encoded data removed]"
          },
          "metadata": {}
        }
      ]
    }
  ]
}